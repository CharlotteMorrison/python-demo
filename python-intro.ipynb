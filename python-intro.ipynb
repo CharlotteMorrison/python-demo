{
 "cells": [
  {
   "cell_type": "markdown",
   "source": [
    "# Introduction to Python\n",
    "<hr>\n",
    "\n",
    "## About Python\n",
    "Python is an interpreted language, this differs from compiled languages because it does not require previous compiling\n",
    "into machine language instructions before running, the interpreter reads and executes the code.  An implication of this\n",
    "is that there are no compile time errors, all errors will occur at runtime. Compiled languages will generally have better\n",
    "performance in terms of execution speed, while interpreted languages can speed up code development and testing.\n",
    "Languages like Python are great for rapid prototyping, data analysis, and scientific computing because the ease of\n",
    "development supports the constant changes to the code base.\n",
    "<table><tr><td>\n",
    "<h2>Where to get started...</h2>\n",
    "<hr>\n",
    "A comprehensive tutorial on core Python is from <a href=\"https://www.w3schools.com/python/default.asp\">W3Schools.org</a>.\n",
    "<br>\n",
    "Information on downloading and installing Python and tutorials at <a href=\"https://realpython.com/python-first-steps/\">RealPython.com</a>\n",
    "\n",
    "The Python editor I was using in the demo is <a href=\"https://www.jetbrains.com/pycharm/download/#section=windows\">Pycharm</a>\n",
    "the community version is free to download and has all the features you will need.\n",
    "</td></tr></table>"
   ],
   "metadata": {
    "collapsed": false,
    "pycharm": {
     "name": "#%% md\n"
    }
   }
  },
  {
   "cell_type": "markdown",
   "source": [
    "## Jupyter Notebooks\n",
    "Jupyter Notebooks are an interactive environment where you can write code and display results, create graphs and plots,\n",
    "develop interactive widgets, animations, etc. in a single document that you can use for demonstrations and presentations.\n",
    "\n",
    "They support other languages besides Python, and you can use 'magic' commands to allow additional features like\n",
    "including HTML formatting or <a href=\"https://cython.readthedocs.io/en/latest/src/tutorial/cython_tutorial.html\">Cython</a>\n",
    "code directly in the notebook.\n",
    "\n",
    "Jupyter Notebooks provide multiple options for sharing and exporting your work including PDF, HTML, LaTex, etc.\n",
    "\n",
    "\n",
    "You can demo <a href=\"https://jupyter.org/index.html\">JupyterLab</a> in your browser to experiment making notebooks with Python."
   ],
   "metadata": {
    "collapsed": false,
    "pycharm": {
     "name": "#%% md\n"
    }
   }
  },
  {
   "cell_type": "markdown",
   "source": [
    "## About Python"
   ],
   "metadata": {
    "collapsed": false
   }
  },
  {
   "cell_type": "markdown",
   "source": [
    "### Spacing\n",
    "While many IDEs will automatically format your code with tabs/spaces, you should be careful not to mix the two in your\n",
    "files, it can cause a TabError.  PEP8 specifies using 4 spaces per indentation level because Python uses indentation to\n",
    "delineate code blocks instead of curly braces.\n",
    "If you would like to read more about the battle between tabs/spaces:\n",
    "<ul>\n",
    "    <li><a href=\"https://dev.to/alexandersandberg/why-we-should-default-to-tabs-instead-of-spaces-for-an-accessible-first-environment-101f\">\n",
    "    Why we should default to Tabs instead of Spaces for an 'accessible first' environment</a>, how spaces/tabs impact\n",
    "    visually impaired programmers.</li>\n",
    "    <li><a href=\"https://www.jwz.org/doc/tabs-vs-spaces.html\">Tabs versus Spaces: An Eternal Holy War</a>, an opinion on\n",
    "    this contentious issue.</li>\n",
    "    <li><a href=\"https://www.kaggle.com/silversurf/tabs-vs-spaces-popularity\">Tabs vs Spaces Popularity</a>, some data\n",
    "    analysis on tabs/spaces in github Python files.</li>\n",
    "</ul>\n",
    "* Note: Github displays tabs as 8 characters by default which is really too many, it can be changed but that is extra work."
   ],
   "metadata": {
    "collapsed": false
   }
  },
  {
   "cell_type": "markdown",
   "source": [
    "### Multiple Assignments\n",
    "Python allows for multiple variables to be assigned on one line, multiple values with the same or different data types.\n",
    "This makes swapping values very easy!"
   ],
   "metadata": {
    "collapsed": false
   }
  },
  {
   "cell_type": "code",
   "execution_count": 109,
   "outputs": [
    {
     "name": "stdout",
     "output_type": "stream",
     "text": [
      "charlotte 43\n"
     ]
    }
   ],
   "source": [
    "# multiple assignments on one line\n",
    "name, age = 'charlotte', 43\n",
    "print(name, age)"
   ],
   "metadata": {
    "collapsed": false,
    "pycharm": {
     "name": "#%%\n"
    }
   }
  },
  {
   "cell_type": "code",
   "execution_count": 110,
   "outputs": [
    {
     "name": "stdout",
     "output_type": "stream",
     "text": [
      "('charlotte', 43) <class 'tuple'>\n"
     ]
    }
   ],
   "source": [
    "# assign multiple values to one variable (becomes a tuple)\n",
    "entry = 'charlotte', 43\n",
    "print(entry, type(entry))"
   ],
   "metadata": {
    "collapsed": false,
    "pycharm": {
     "name": "#%%\n"
    }
   }
  },
  {
   "cell_type": "code",
   "execution_count": 111,
   "outputs": [
    {
     "name": "stdout",
     "output_type": "stream",
     "text": [
      "charlotte [100, 99, 88, 23]\n"
     ]
    }
   ],
   "source": [
    "# assign one value as a variable, and the rest to a list\n",
    "name, *grades = 'charlotte', 100, 99, 88, 23\n",
    "print(name, grades)"
   ],
   "metadata": {
    "collapsed": false,
    "pycharm": {
     "name": "#%%\n"
    }
   }
  },
  {
   "cell_type": "code",
   "execution_count": 112,
   "outputs": [
    {
     "name": "stdout",
     "output_type": "stream",
     "text": [
      "0 0\n"
     ]
    }
   ],
   "source": [
    "# assign the same value to multiple variables\n",
    "start_x = start_y = 0\n",
    "print(start_x, start_y)"
   ],
   "metadata": {
    "collapsed": false,
    "pycharm": {
     "name": "#%%\n"
    }
   }
  },
  {
   "cell_type": "code",
   "execution_count": 113,
   "outputs": [
    {
     "name": "stdout",
     "output_type": "stream",
     "text": [
      "1 0\n"
     ]
    }
   ],
   "source": [
    "# change one of the values (do not do this with mutables [lists, dictionaries]!!!)\n",
    "start_x = 1\n",
    "print(start_x, start_y)"
   ],
   "metadata": {
    "collapsed": false,
    "pycharm": {
     "name": "#%%\n"
    }
   }
  },
  {
   "cell_type": "code",
   "execution_count": 114,
   "outputs": [
    {
     "name": "stdout",
     "output_type": "stream",
     "text": [
      "[100, 99, 88, 23]\n",
      "[100, 99, 88, 23]\n",
      "[100, 99, 88, 23]\n"
     ]
    }
   ],
   "source": [
    "# if you do this with mutables, the changes affect all the variables assigned to the list\n",
    "grades_1 = grades_2 = [100, 99, 88, 23]\n",
    "print(grades_1)\n",
    "print(grades_2)\n",
    "# you can use .copy() if you want two identical lists,\n",
    "grades_3 = grades_1.copy()\n",
    "print(grades_3)"
   ],
   "metadata": {
    "collapsed": false,
    "pycharm": {
     "name": "#%%\n"
    }
   }
  },
  {
   "cell_type": "code",
   "execution_count": 115,
   "outputs": [
    {
     "name": "stdout",
     "output_type": "stream",
     "text": [
      "[100, 99, 88, 77]\n",
      "[100, 99, 88, 77]\n",
      "[100, 99, 88, 23]\n"
     ]
    }
   ],
   "source": [
    "# change one value, the multiple assignments will change too, while the .copy() will not\n",
    "grades_1[3] = 77\n",
    "print(grades_1)\n",
    "print(grades_2)\n",
    "print(grades_3)"
   ],
   "metadata": {
    "collapsed": false,
    "pycharm": {
     "name": "#%%\n"
    }
   }
  },
  {
   "cell_type": "code",
   "execution_count": 116,
   "outputs": [
    {
     "name": "stdout",
     "output_type": "stream",
     "text": [
      "3.98 2.74\n"
     ]
    }
   ],
   "source": [
    "# swapping variables is simple\n",
    "my_gpa, your_gpa = 2.74, 3.98\n",
    "my_gpa, your_gpa = your_gpa, my_gpa\n",
    "print(my_gpa, your_gpa)"
   ],
   "metadata": {
    "collapsed": false,
    "pycharm": {
     "name": "#%%\n"
    }
   }
  },
  {
   "cell_type": "markdown",
   "source": [
    "### Dynamic Typing\n",
    "In Python there is no need to declare a variable type because there is no compiling or compile time checking of variable\n",
    "types.  The interpreter assigns the type at runtime and it can be changed during the program."
   ],
   "metadata": {
    "collapsed": false
   }
  },
  {
   "cell_type": "code",
   "execution_count": 117,
   "outputs": [
    {
     "name": "stdout",
     "output_type": "stream",
     "text": [
      "2020 <class 'int'>\n"
     ]
    }
   ],
   "source": [
    "year = 2020\n",
    "print(year, type(year))"
   ],
   "metadata": {
    "collapsed": false,
    "pycharm": {
     "name": "#%%\n"
    }
   }
  },
  {
   "cell_type": "code",
   "execution_count": 118,
   "outputs": [
    {
     "name": "stdout",
     "output_type": "stream",
     "text": [
      "2021.7 <class 'float'>\n"
     ]
    }
   ],
   "source": [
    "year += 1.7\n",
    "print(year, type(year))"
   ],
   "metadata": {
    "collapsed": false,
    "pycharm": {
     "name": "#%%\n"
    }
   }
  },
  {
   "cell_type": "code",
   "execution_count": 119,
   "outputs": [
    {
     "name": "stdout",
     "output_type": "stream",
     "text": [
      "The year is: 2021 <class 'str'>\n"
     ]
    }
   ],
   "source": [
    "year = \"The year is: 2021\"\n",
    "print(year, type(year))"
   ],
   "metadata": {
    "collapsed": false,
    "pycharm": {
     "name": "#%%\n"
    }
   }
  },
  {
   "cell_type": "markdown",
   "source": [
    "### Slicing\n",
    "Python lists are indexed starting with 0 (for the Matlab enthusists) and can be accessed according to index, or\n",
    "sliced using ranges of indexes.  You can use positive indexes from the start of the list or negative indexes backward\n",
    "from the end of the list."
   ],
   "metadata": {
    "collapsed": false
   }
  },
  {
   "cell_type": "code",
   "execution_count": 120,
   "outputs": [
    {
     "name": "stdout",
     "output_type": "stream",
     "text": [
      "[11, 12, 13, 14, 15, 16, 17, 18]\n",
      "[11, 12, 13, 14, 15, 16, 17, 18]\n",
      "[11, 12, 13, 14, 15, 16, 17, 18]\n"
     ]
    }
   ],
   "source": [
    "my_list = [10, 11, 12, 13, 14, 15, 16, 17, 18, 19, 20]\n",
    "print(my_list[1:9])\n",
    "print(my_list[-10:-2])\n",
    "print(my_list[1:-2])"
   ],
   "metadata": {
    "collapsed": false,
    "pycharm": {
     "name": "#%%\n"
    }
   }
  },
  {
   "cell_type": "code",
   "execution_count": 121,
   "outputs": [
    {
     "name": "stdout",
     "output_type": "stream",
     "text": [
      "[11, 13, 15, 17]\n"
     ]
    }
   ],
   "source": [
    "# you can specify a step in the slicing, if you choose 2, every other value will be in the slice\n",
    "print(my_list[1:-2:2])"
   ],
   "metadata": {
    "collapsed": false,
    "pycharm": {
     "name": "#%%\n"
    }
   }
  },
  {
   "cell_type": "code",
   "execution_count": 122,
   "outputs": [
    {
     "name": "stdout",
     "output_type": "stream",
     "text": [
      "[19, 17, 15, 13]\n"
     ]
    }
   ],
   "source": [
    "# you can work backwards using negative indexing\n",
    "print(my_list[9:1:-2])"
   ],
   "metadata": {
    "collapsed": false,
    "pycharm": {
     "name": "#%%\n"
    }
   }
  },
  {
   "cell_type": "code",
   "execution_count": 123,
   "outputs": [
    {
     "name": "stdout",
     "output_type": "stream",
     "text": [
      "[10, 11, 12, 13, 14, 15]\n",
      "[15, 16, 17, 18, 19, 20]\n"
     ]
    }
   ],
   "source": [
    "# you can cut off the start or end by omitting the start or end index in the slice\n",
    "print(my_list[:-5])\n",
    "print(my_list[5:])"
   ],
   "metadata": {
    "collapsed": false,
    "pycharm": {
     "name": "#%%\n"
    }
   }
  },
  {
   "cell_type": "code",
   "execution_count": 124,
   "outputs": [
    {
     "name": "stdout",
     "output_type": "stream",
     "text": [
      "[20, 19, 18, 17, 16, 15, 14, 13, 12, 11, 10]\n"
     ]
    }
   ],
   "source": [
    "# it is easy to reverse a list using slicing, just leave out both the start and the end index and count back by -1!\n",
    "print(my_list[::-1])"
   ],
   "metadata": {
    "collapsed": false,
    "pycharm": {
     "name": "#%%\n"
    }
   }
  },
  {
   "cell_type": "code",
   "execution_count": 125,
   "outputs": [
    {
     "name": "stdout",
     "output_type": "stream",
     "text": [
      "[10, 21, 21, 21, 21, 15, 16, 17, 18, 19, 20]\n"
     ]
    }
   ],
   "source": [
    "# you can update multiple values in a list by specifying a slice\n",
    "my_list[1:5] = [21, 21, 21, 21]\n",
    "print(my_list)\n"
   ],
   "metadata": {
    "collapsed": false,
    "pycharm": {
     "name": "#%%\n"
    }
   }
  },
  {
   "cell_type": "markdown",
   "source": [
    "### Chaining Comparisons\n",
    "In Python you can write chained comparisons.  This makes long Boolean comparisons much simpler and more 'mathy' in your\n",
    "code."
   ],
   "metadata": {
    "collapsed": false,
    "pycharm": {
     "name": "#%% md\n"
    }
   }
  },
  {
   "cell_type": "code",
   "execution_count": 126,
   "outputs": [
    {
     "data": {
      "text/plain": "True"
     },
     "execution_count": 126,
     "metadata": {},
     "output_type": "execute_result"
    }
   ],
   "source": [
    "# chained comparisons\n",
    "age = 16\n",
    "12 < age < 18"
   ],
   "metadata": {
    "collapsed": false,
    "pycharm": {
     "name": "#%%\n"
    }
   }
  },
  {
   "cell_type": "markdown",
   "source": [
    "### List Comprehensions\n",
    "List comprehensions are the 'Pythonic' way to iterate through anything that supports the iteration protocol\n",
    "(ie. lists, strings, files, tuples).  The one line implementations make your Python code very readable, concise, and in\n",
    "some cases run faster because it is optimized for the interpreter to find the pattern during looping."
   ],
   "metadata": {
    "collapsed": false
   }
  },
  {
   "cell_type": "code",
   "execution_count": 127,
   "outputs": [
    {
     "name": "stdout",
     "output_type": "stream",
     "text": [
      "['James', 'Fred', 'Jack']\n"
     ]
    }
   ],
   "source": [
    "# list comprehension for cleaning strings\n",
    "users = [' James ', '  Fred', 'Jack ']\n",
    "users = [user.strip() for user in users]\n",
    "print(users)"
   ],
   "metadata": {
    "collapsed": false,
    "pycharm": {
     "name": "#%%\n"
    }
   }
  },
  {
   "cell_type": "code",
   "execution_count": 128,
   "outputs": [
    {
     "name": "stdout",
     "output_type": "stream",
     "text": [
      "[37.05555555555556, 19.333333333333332, 31.27777777777778, 29.555555555555557]\n"
     ]
    }
   ],
   "source": [
    "# conduct a mathematical operation on each value in a list\n",
    "temps = [98.7, 66.8, 88.3, 85.2]\n",
    "temps = [(temp - 32) * 5 / 9 for temp in temps]\n",
    "print(temps)"
   ],
   "metadata": {
    "collapsed": false,
    "pycharm": {
     "name": "#%%\n"
    }
   }
  },
  {
   "cell_type": "code",
   "execution_count": 129,
   "outputs": [
    {
     "name": "stdout",
     "output_type": "stream",
     "text": [
      "[37.06, 19.33, 31.28, 29.56]\n"
     ]
    }
   ],
   "source": [
    "# format data\n",
    "temps = [round(temp, 2) for temp in temps]\n",
    "print(temps)"
   ],
   "metadata": {
    "collapsed": false,
    "pycharm": {
     "name": "#%%\n"
    }
   }
  },
  {
   "cell_type": "code",
   "execution_count": 130,
   "outputs": [
    {
     "name": "stdout",
     "output_type": "stream",
     "text": [
      "[(37.06, 39.46), (19.33, 21.73), (31.28, 33.68), (29.56, 31.96)]\n"
     ]
    }
   ],
   "source": [
    "# create a list of tuples from a list\n",
    "temp_change = [(temp, round(temp + 2.4, 2)) for temp in temps]\n",
    "print(temp_change)"
   ],
   "metadata": {
    "collapsed": false,
    "pycharm": {
     "name": "#%%\n"
    }
   }
  },
  {
   "cell_type": "code",
   "execution_count": 131,
   "outputs": [
    {
     "name": "stdout",
     "output_type": "stream",
     "text": [
      "[19.33, 29.56]\n"
     ]
    }
   ],
   "source": [
    "# use an if clause in a list comprehension\n",
    "lows = [temp for temp in temps if temp < 30]\n",
    "print(lows)"
   ],
   "metadata": {
    "collapsed": false,
    "pycharm": {
     "name": "#%%\n"
    }
   }
  },
  {
   "cell_type": "code",
   "execution_count": 132,
   "outputs": [
    {
     "name": "stdout",
     "output_type": "stream",
     "text": [
      "[[0, 0, 0], [0, 0, 0], [0, 0, 0]]\n"
     ]
    }
   ],
   "source": [
    "# nested list comprehensions\n",
    "mat = [[0 for row in range(3)] for column in range(3)]\n",
    "print(mat)"
   ],
   "metadata": {
    "collapsed": false,
    "pycharm": {
     "name": "#%%\n"
    }
   }
  },
  {
   "cell_type": "markdown",
   "source": [
    "### Play Python Millionaire\n",
    "If you want to test your Python knowlege, try\n",
    "<a href=\"https://www.millionairedev.app/\">Python Millionaire</a> (for fun)\n",
    "\n",
    "\n",
    "\n"
   ],
   "metadata": {
    "collapsed": false,
    "pycharm": {
     "name": "#%% md\n"
    }
   }
  }
 ],
 "metadata": {
  "kernelspec": {
   "display_name": "Python 3",
   "language": "python",
   "name": "python3"
  },
  "language_info": {
   "codemirror_mode": {
    "name": "ipython",
    "version": 2
   },
   "file_extension": ".py",
   "mimetype": "text/x-python",
   "name": "python",
   "nbconvert_exporter": "python",
   "pygments_lexer": "ipython2",
   "version": "2.7.6"
  }
 },
 "nbformat": 4,
 "nbformat_minor": 0
}